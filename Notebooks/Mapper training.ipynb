{
 "cells": [
  {
   "cell_type": "code",
   "execution_count": 1,
   "metadata": {},
   "outputs": [],
   "source": [
    "import os\n",
    "os.chdir('../')"
   ]
  },
  {
   "cell_type": "code",
   "execution_count": 2,
   "metadata": {
    "executionInfo": {
     "elapsed": 5513,
     "status": "ok",
     "timestamp": 1610453168387,
     "user": {
      "displayName": "Daniel Roich",
      "photoUrl": "https://lh3.googleusercontent.com/a-/AOh14GifbWgrIYByxoDozsrfs4S6tp4xmQK4agVgjsBD-g=s64",
      "userId": "17660144139198746307"
     },
     "user_tz": -120
    },
    "id": "qkpjfEIjKy5T"
   },
   "outputs": [],
   "source": [
    "from Losses.AdversarialLoss import calc_Dw_loss\n",
    "from Models.Encoders.ID_Encoder import ID_Encoder\n",
    "from Models.Encoders.Attribute_Encoder import Encoder_Attribute\n",
    "from Models.Discrimanator import Discriminator\n",
    "from Models.LatentMapper import LatentMapper\n",
    "import torch\n",
    "import torch.utils.data\n",
    "import torchvision.datasets as dset\n",
    "from torch.utils.data import Dataset\n",
    "import torchvision.transforms as transforms\n",
    "import matplotlib.pyplot as plt\n",
    "from tqdm import tqdm\n",
    "import numpy as np\n",
    "import seaborn as sns\n",
    "sns.set()\n"
   ]
  },
  {
   "cell_type": "code",
   "execution_count": 3,
   "metadata": {
    "executionInfo": {
     "elapsed": 1072,
     "status": "ok",
     "timestamp": 1610453172106,
     "user": {
      "displayName": "Daniel Roich",
      "photoUrl": "https://lh3.googleusercontent.com/a-/AOh14GifbWgrIYByxoDozsrfs4S6tp4xmQK4agVgjsBD-g=s64",
      "userId": "17660144139198746307"
     },
     "user_tz": -120
    },
    "id": "ixsE5vvlk9Pn"
   },
   "outputs": [],
   "source": [
    "def plot_w_image(w):\n",
    "    w = w.unsqueeze(0).cuda()\n",
    "    sample, latents = generator(\n",
    "      [w], input_is_latent=True, return_latents=True\n",
    "    )\n",
    "    new_image = sample.cpu().detach().numpy().transpose(0,2,3,1)[0]\n",
    "    new_image = (new_image + 1) / 2\n",
    "    plt.axis('off')\n",
    "    plt.imshow(new_image)\n",
    "    plt.show()"
   ]
  },
  {
   "cell_type": "code",
   "execution_count": 4,
   "metadata": {},
   "outputs": [],
   "source": [
    "torch.cuda.empty_cache()\n",
    "import gc\n",
    "gc.collect()\n",
    "import sys\n",
    "sys.path.append(\".\")\n",
    "sys.path.append(\"..\")\n",
    "from Models.StyleGan2.model import Generator\n",
    "\n",
    "generator = Generator(1024,512,8).cuda()\n",
    "state_dict = torch.load('./pretrained/800000.pt')\n",
    "generator.load_state_dict(state_dict['g_ema'], strict=False)\n",
    "generator = generator.eval()"
   ]
  },
  {
   "cell_type": "code",
   "execution_count": 5,
   "metadata": {},
   "outputs": [
    {
     "name": "stderr",
     "output_type": "stream",
     "text": [
      "/home2/kushal/miniconda3/envs/ID/lib/python3.9/site-packages/torchvision/models/_utils.py:208: UserWarning: The parameter 'pretrained' is deprecated since 0.13 and may be removed in the future, please use 'weights' instead.\n",
      "  warnings.warn(\n",
      "/home2/kushal/miniconda3/envs/ID/lib/python3.9/site-packages/torchvision/models/_utils.py:223: UserWarning: Arguments other than a weight enum or `None` for 'weights' are deprecated since 0.13 and may be removed in the future. The current behavior is equivalent to passing `weights=None`.\n",
      "  warnings.warn(msg)\n",
      "/home2/kushal/miniconda3/envs/ID/lib/python3.9/site-packages/torchvision/models/inception.py:43: FutureWarning: The default weight initialization of inception_v3 will be changed in future releases of torchvision. If you wish to keep the old behavior (which leads to long initialization times due to scipy/scipy#11299), please set init_weights=True.\n",
      "  warnings.warn(\n"
     ]
    }
   ],
   "source": [
    "E_id = ID_Encoder().cuda()\n",
    "E_att = Encoder_Attribute().cuda()\n",
    "discriminator = Discriminator().cuda()\n",
    "mlp = LatentMapper().cuda()"
   ]
  },
  {
   "cell_type": "code",
   "execution_count": 6,
   "metadata": {
    "executionInfo": {
     "elapsed": 1054,
     "status": "ok",
     "timestamp": 1610453275882,
     "user": {
      "displayName": "Daniel Roich",
      "photoUrl": "https://lh3.googleusercontent.com/a-/AOh14GifbWgrIYByxoDozsrfs4S6tp4xmQK4agVgjsBD-g=s64",
      "userId": "17660144139198746307"
     },
     "user_tz": -120
    },
    "id": "fuCha1ddL1KM"
   },
   "outputs": [],
   "source": [
    "E_id = E_id.eval()\n",
    "E_att = E_att.eval()\n",
    "discriminator = discriminator.train()\n",
    "mlp = mlp.train()"
   ]
  },
  {
   "cell_type": "code",
   "execution_count": 7,
   "metadata": {
    "executionInfo": {
     "elapsed": 767,
     "status": "ok",
     "timestamp": 1610453276172,
     "user": {
      "displayName": "Daniel Roich",
      "photoUrl": "https://lh3.googleusercontent.com/a-/AOh14GifbWgrIYByxoDozsrfs4S6tp4xmQK4agVgjsBD-g=s64",
      "userId": "17660144139198746307"
     },
     "user_tz": -120
    },
    "id": "AkzQe3TWpurV"
   },
   "outputs": [],
   "source": [
    "def get_w_by_index(idx, root_dir = r\"./pretrained/Dataset/small_w/0/\"):\n",
    "    if torch.is_tensor(idx):\n",
    "        idx = idx.tolist()\n",
    "\n",
    "    dir_idx = idx // 1000\n",
    "\n",
    "    w_path = os.path.join(root_dir, str(dir_idx),str(idx)+ \".npy\")\n",
    "    w = np.load(w_path)\n",
    "\n",
    "    return torch.tensor(w)"
   ]
  },
  {
   "cell_type": "code",
   "execution_count": 8,
   "metadata": {
    "executionInfo": {
     "elapsed": 498,
     "status": "ok",
     "timestamp": 1610453277064,
     "user": {
      "displayName": "Daniel Roich",
      "photoUrl": "https://lh3.googleusercontent.com/a-/AOh14GifbWgrIYByxoDozsrfs4S6tp4xmQK4agVgjsBD-g=s64",
      "userId": "17660144139198746307"
     },
     "user_tz": -120
    },
    "id": "nxa3cxIUCYK7"
   },
   "outputs": [],
   "source": [
    "class WDataSet(Dataset):\n",
    "    def __init__(self,root_dir):\n",
    "        \"\"\"\n",
    "        Args:\n",
    "            root_dir (string): Directory with all the w's.\n",
    "        \"\"\"\n",
    "        self.root_dir = root_dir\n",
    "\n",
    "    def __len__(self):\n",
    "        ## TODO: Change\n",
    "        return 6999\n",
    "\n",
    "    def __getitem__(self, idx):\n",
    "        return get_w_by_index(idx, self.root_dir)"
   ]
  },
  {
   "cell_type": "code",
   "execution_count": 9,
   "metadata": {
    "executionInfo": {
     "elapsed": 646,
     "status": "ok",
     "timestamp": 1610453279573,
     "user": {
      "displayName": "Daniel Roich",
      "photoUrl": "https://lh3.googleusercontent.com/a-/AOh14GifbWgrIYByxoDozsrfs4S6tp4xmQK4agVgjsBD-g=s64",
      "userId": "17660144139198746307"
     },
     "user_tz": -120
    },
    "id": "x2NmOR2WuASR"
   },
   "outputs": [],
   "source": [
    "class ConcatDataset(torch.utils.data.Dataset):\n",
    "    def __init__(self, datasets):\n",
    "        self.datasets = datasets\n",
    "\n",
    "    def __getitem__(self, i):\n",
    "        return tuple(d[i] for d in self.datasets)\n",
    "\n",
    "    def __len__(self):\n",
    "        return min(len(d) for d in self.datasets)"
   ]
  },
  {
   "cell_type": "code",
   "execution_count": 10,
   "metadata": {
    "executionInfo": {
     "elapsed": 17926,
     "status": "ok",
     "timestamp": 1610453299936,
     "user": {
      "displayName": "Daniel Roich",
      "photoUrl": "https://lh3.googleusercontent.com/a-/AOh14GifbWgrIYByxoDozsrfs4S6tp4xmQK4agVgjsBD-g=s64",
      "userId": "17660144139198746307"
     },
     "user_tz": -120
    },
    "id": "JyvRYelHKy5W"
   },
   "outputs": [],
   "source": [
    "data_dir = r\"./pretrained/Dataset/image_med_res/\"\n",
    "attr_dataset = dset.ImageFolder(root=data_dir,\n",
    "                                transform=transforms.Compose([\n",
    "                                transforms.Resize(299),\n",
    "                                transforms.CenterCrop(299),\n",
    "                                transforms.ToTensor(),\n",
    "                                transforms.Normalize(mean=[0.485, 0.456, 0.406], std=[0.229, 0.224, 0.225]),\n",
    "                                ]))\n",
    "\n",
    "id_dataset = dset.ImageFolder(root=data_dir,\n",
    "                                transform=transforms.Compose([\n",
    "                                transforms.Resize(299),\n",
    "                                transforms.CenterCrop(299),\n",
    "                                transforms.ToTensor(),\n",
    "                                transforms.Normalize(mean=[0.485, 0.456, 0.406], std=[0.229, 0.224, 0.225]),\n",
    "                                ]))\n",
    "\n",
    "\n",
    "w_dataset = WDataSet(r\"./pretrained/Dataset/w_med_res/\")"
   ]
  },
  {
   "cell_type": "code",
   "execution_count": 11,
   "metadata": {
    "executionInfo": {
     "elapsed": 615,
     "status": "ok",
     "timestamp": 1610453303834,
     "user": {
      "displayName": "Daniel Roich",
      "photoUrl": "https://lh3.googleusercontent.com/a-/AOh14GifbWgrIYByxoDozsrfs4S6tp4xmQK4agVgjsBD-g=s64",
      "userId": "17660144139198746307"
     },
     "user_tz": -120
    },
    "id": "gBfdXPVblNN5"
   },
   "outputs": [],
   "source": [
    "def make_concat_loaders(batch_size, datasets):\n",
    "    full_dataset = ConcatDataset(datasets)\n",
    "\n",
    "    train_loader = torch.utils.data.DataLoader(dataset=full_dataset,\n",
    "                                              batch_size=batch_size, shuffle = True)\n",
    "\n",
    "    return train_loader"
   ]
  },
  {
   "cell_type": "code",
   "execution_count": 12,
   "metadata": {
    "executionInfo": {
     "elapsed": 729,
     "status": "ok",
     "timestamp": 1610453567398,
     "user": {
      "displayName": "Daniel Roich",
      "photoUrl": "https://lh3.googleusercontent.com/a-/AOh14GifbWgrIYByxoDozsrfs4S6tp4xmQK4agVgjsBD-g=s64",
      "userId": "17660144139198746307"
     },
     "user_tz": -120
    },
    "id": "GvxD_BfZq_pB"
   },
   "outputs": [],
   "source": [
    "config = {\n",
    "    'beta1' : 0.5,\n",
    "    'beta2' : 0.999,\n",
    "    'lrD' : 0.0004,\n",
    "    'lrMLP' : 0.00003,\n",
    "    'lrAttr' : 0.0001,\n",
    "    'IdDiffersAttrTrainRatio' : 3, # 1/3\n",
    "    'batchSize' : 8,\n",
    "    'R1Param' : 10,\n",
    "    'lambdaID' : 1,\n",
    "    'lambdaLND' : 1,\n",
    "    'lambdaREC' : 1\n",
    "}"
   ]
  },
  {
   "cell_type": "code",
   "execution_count": 13,
   "metadata": {
    "executionInfo": {
     "elapsed": 986,
     "status": "ok",
     "timestamp": 1610453568895,
     "user": {
      "displayName": "Daniel Roich",
      "photoUrl": "https://lh3.googleusercontent.com/a-/AOh14GifbWgrIYByxoDozsrfs4S6tp4xmQK4agVgjsBD-g=s64",
      "userId": "17660144139198746307"
     },
     "user_tz": -120
    },
    "id": "dzfPscWZKy5Y"
   },
   "outputs": [],
   "source": [
    "train_loader = make_concat_loaders(config['batchSize'],(id_dataset, attr_dataset,w_dataset))"
   ]
  },
  {
   "cell_type": "code",
   "execution_count": 14,
   "metadata": {
    "executionInfo": {
     "elapsed": 909,
     "status": "ok",
     "timestamp": 1610453570358,
     "user": {
      "displayName": "Daniel Roich",
      "photoUrl": "https://lh3.googleusercontent.com/a-/AOh14GifbWgrIYByxoDozsrfs4S6tp4xmQK4agVgjsBD-g=s64",
      "userId": "17660144139198746307"
     },
     "user_tz": -120
    },
    "id": "9ssMWz7MKy5a"
   },
   "outputs": [],
   "source": [
    "discriminator = Discriminator().cuda()\n",
    "mlp = LatentMapper().cuda()\n",
    "optimizerD = torch.optim.Adam(discriminator.parameters(), lr=config['lrD'], betas=(config['beta1'], config['beta2']))\n",
    "optimizerMLP = torch.optim.Adam(mlp.parameters(), lr=config['lrMLP'], betas=(config['beta1'], config['beta2']))"
   ]
  },
  {
   "cell_type": "code",
   "execution_count": 15,
   "metadata": {
    "id": "UkgOgkBxeuKN"
   },
   "outputs": [],
   "source": [
    "optimizerD = torch.optim.Adam(discriminator.parameters(), lr=config['lrD'], betas=(config['beta1'], config['beta2']))\n",
    "optimizerMLP = torch.optim.Adam(mlp.parameters(), lr=config['lrMLP'], betas=(config['beta1'], config['beta2']))"
   ]
  },
  {
   "cell_type": "code",
   "execution_count": 16,
   "metadata": {
    "executionInfo": {
     "elapsed": 785,
     "status": "ok",
     "timestamp": 1610453403854,
     "user": {
      "displayName": "Daniel Roich",
      "photoUrl": "https://lh3.googleusercontent.com/a-/AOh14GifbWgrIYByxoDozsrfs4S6tp4xmQK4agVgjsBD-g=s64",
      "userId": "17660144139198746307"
     },
     "user_tz": -120
    },
    "id": "SCLErqSshAT5"
   },
   "outputs": [],
   "source": [
    "def train_discriminator(optimizer, real_w, generated_w):\n",
    "\n",
    "    optimizer.zero_grad()\n",
    "\n",
    "    # 1.1 Train on Real Data\n",
    "    prediction_real = discriminator(real_w).view(-1)\n",
    "    # Calculate error and backpropagate\n",
    "    error_real = calc_Dw_loss(prediction_real, 1)\n",
    "    error_real.backward()\n",
    "\n",
    "    generated_w = generated_w.clone().detach()\n",
    "    # 1.2 Train on Fake Data\n",
    "    prediction_fake = discriminator(generated_w).view(-1)\n",
    "    # Calculate error and backpropagate\n",
    "    error_fake = calc_Dw_loss(prediction_fake, 0)\n",
    "\n",
    "    error_fake.backward()\n",
    "\n",
    "\n",
    "    # 1.3 Update weights with gradients\n",
    "    optimizer.step()\n",
    "\n",
    "    # Return error and predictions for real and fake inputs\n",
    "    # return error_real + error_fake, prediction_real, prediction_fake\n",
    "    return error_real, prediction_real, error_fake, prediction_fake"
   ]
  },
  {
   "cell_type": "code",
   "execution_count": 17,
   "metadata": {
    "executionInfo": {
     "elapsed": 516,
     "status": "ok",
     "timestamp": 1610453404191,
     "user": {
      "displayName": "Daniel Roich",
      "photoUrl": "https://lh3.googleusercontent.com/a-/AOh14GifbWgrIYByxoDozsrfs4S6tp4xmQK4agVgjsBD-g=s64",
      "userId": "17660144139198746307"
     },
     "user_tz": -120
    },
    "id": "WxuJ-YmKhb9o"
   },
   "outputs": [],
   "source": [
    "def train_mapper(optimizer, generated_w):\n",
    "  \n",
    "    optimizer.zero_grad()\n",
    "    prediction = discriminator(generated_w).view(-1)\n",
    "    # Calculate error and backpropagate\n",
    "    error = calc_Dw_loss(prediction, 1)\n",
    "    error.backward()\n",
    "    # Update weights with gradients\n",
    "    optimizer.step()\n",
    "    # Return error\n",
    "    return error, prediction"
   ]
  },
  {
   "cell_type": "code",
   "execution_count": 18,
   "metadata": {
    "colab": {
     "base_uri": "https://localhost:8080/"
    },
    "executionInfo": {
     "elapsed": 14638,
     "status": "ok",
     "timestamp": 1610453374877,
     "user": {
      "displayName": "Daniel Roich",
      "photoUrl": "https://lh3.googleusercontent.com/a-/AOh14GifbWgrIYByxoDozsrfs4S6tp4xmQK4agVgjsBD-g=s64",
      "userId": "17660144139198746307"
     },
     "user_tz": -120
    },
    "id": "Rd9atA7iKALa",
    "outputId": "50e0ee8a-ff3e-41be-f631-1e3dde4498ee"
   },
   "outputs": [],
   "source": [
    "for idx, data in enumerate(train_loader):\n",
    "\n",
    "  id_images, attr_images, ws = data\n",
    "\n",
    "  torch.cuda.empty_cache()\n",
    "  id_images = id_images[0].cuda()\n",
    "  attr_images = attr_images[0].cuda()\n",
    "  ws_single = ws.cuda()\n",
    "\n",
    "  if idx % config['IdDiffersAttrTrainRatio'] == 0:\n",
    "    different_attr_images = torch.empty_like(attr_images, device='cuda')\n",
    "    different_attr_images[0] = attr_images[7]\n",
    "    different_attr_images[1:] = attr_images[:7]\n",
    "    attr_images = different_attr_images\n",
    "  \n",
    "  with torch.no_grad():\n",
    "    id_vec = E_id(id_images)\n",
    "    attr_vec = E_att(attr_images)\n",
    "    # different image to id and attr\n",
    "    id_vec = torch.squeeze(id_vec)\n",
    "    attr_vec = torch.squeeze(attr_vec)\n",
    "    encoded_vec = torch.cat((id_vec,attr_vec), dim=1)\n",
    "  test_vec = encoded_vec\n",
    "  break"
   ]
  },
  {
   "cell_type": "code",
   "execution_count": 19,
   "metadata": {
    "executionInfo": {
     "elapsed": 736,
     "status": "ok",
     "timestamp": 1610453576546,
     "user": {
      "displayName": "Daniel Roich",
      "photoUrl": "https://lh3.googleusercontent.com/a-/AOh14GifbWgrIYByxoDozsrfs4S6tp4xmQK4agVgjsBD-g=s64",
      "userId": "17660144139198746307"
     },
     "user_tz": -120
    },
    "id": "J9pXEpw_wOTs"
   },
   "outputs": [],
   "source": [
    "MLP_losses = []\n",
    "D_losses = []"
   ]
  },
  {
   "cell_type": "markdown",
   "metadata": {
    "id": "_Oiq8cffQsfm"
   },
   "source": [
    "# Training only the mapper and discriminator"
   ]
  },
  {
   "cell_type": "code",
   "execution_count": 20,
   "metadata": {
    "colab": {
     "base_uri": "https://localhost:8080/",
     "height": 1000
    },
    "id": "92sH-KyXKy5c",
    "outputId": "8a04c3e4-dc19-4556-e720-d3b17352ec07"
   },
   "outputs": [
    {
     "name": "stderr",
     "output_type": "stream",
     "text": [
      "/opt/conda/conda-bld/pytorch_1666642975993/work/aten/src/ATen/native/cuda/Loss.cu:92: operator(): block: [0,0,0], thread: [0,0,0] Assertion `input_val >= zero && input_val <= one` failed.\n",
      "/opt/conda/conda-bld/pytorch_1666642975993/work/aten/src/ATen/native/cuda/Loss.cu:92: operator(): block: [0,0,0], thread: [2,0,0] Assertion `input_val >= zero && input_val <= one` failed.\n",
      "/opt/conda/conda-bld/pytorch_1666642975993/work/aten/src/ATen/native/cuda/Loss.cu:92: operator(): block: [0,0,0], thread: [4,0,0] Assertion `input_val >= zero && input_val <= one` failed.\n",
      "/opt/conda/conda-bld/pytorch_1666642975993/work/aten/src/ATen/native/cuda/Loss.cu:92: operator(): block: [0,0,0], thread: [6,0,0] Assertion `input_val >= zero && input_val <= one` failed.\n",
      "/opt/conda/conda-bld/pytorch_1666642975993/work/aten/src/ATen/native/cuda/Loss.cu:92: operator(): block: [0,0,0], thread: [7,0,0] Assertion `input_val >= zero && input_val <= one` failed.\n"
     ]
    },
    {
     "ename": "RuntimeError",
     "evalue": "CUDA error: device-side assert triggered\nCUDA kernel errors might be asynchronously reported at some other API call,so the stacktrace below might be incorrect.\nFor debugging consider passing CUDA_LAUNCH_BLOCKING=1.",
     "output_type": "error",
     "traceback": [
      "\u001b[0;31m---------------------------------------------------------------------------\u001b[0m",
      "\u001b[0;31mRuntimeError\u001b[0m                              Traceback (most recent call last)",
      "Cell \u001b[0;32mIn [20], line 29\u001b[0m\n\u001b[1;32m     27\u001b[0m fake_data \u001b[38;5;241m=\u001b[39m mlp(encoded_vec)\n\u001b[1;32m     28\u001b[0m error_real, prediction_real, error_fake, prediction_fake \u001b[38;5;241m=\u001b[39m train_discriminator(optimizerD, ws, fake_data)\n\u001b[0;32m---> 29\u001b[0m \u001b[38;5;28mprint\u001b[39m(\u001b[38;5;124mf\u001b[39m\u001b[38;5;124m\"\u001b[39m\u001b[38;5;130;01m\\n\u001b[39;00m\u001b[38;5;124m error_real: \u001b[39m\u001b[38;5;132;01m{\u001b[39;00merror_real\u001b[38;5;132;01m}\u001b[39;00m\u001b[38;5;124m, error_fake: \u001b[39m\u001b[38;5;132;01m{\u001b[39;00merror_fake\u001b[38;5;132;01m}\u001b[39;00m\u001b[38;5;124m \u001b[39m\u001b[38;5;130;01m\\n\u001b[39;00m\u001b[38;5;124m prediction_real: \u001b[39m\u001b[38;5;132;01m{\u001b[39;00mtorch\u001b[38;5;241m.\u001b[39mmean(prediction_real)\u001b[38;5;132;01m}\u001b[39;00m\u001b[38;5;124m, prediction_fake: \u001b[39m\u001b[38;5;132;01m{\u001b[39;00mtorch\u001b[38;5;241m.\u001b[39mmean(prediction_fake)\u001b[38;5;132;01m}\u001b[39;00m\u001b[38;5;124m\"\u001b[39m)\n\u001b[1;32m     30\u001b[0m g_error, g_pred \u001b[38;5;241m=\u001b[39m train_mapper(optimizerMLP, fake_data)\n\u001b[1;32m     31\u001b[0m \u001b[38;5;28mprint\u001b[39m(\u001b[38;5;124mf\u001b[39m\u001b[38;5;124m\"\u001b[39m\u001b[38;5;130;01m\\n\u001b[39;00m\u001b[38;5;124m g_error: \u001b[39m\u001b[38;5;132;01m{\u001b[39;00mg_error\u001b[38;5;132;01m}\u001b[39;00m\u001b[38;5;124m, g_pred: \u001b[39m\u001b[38;5;132;01m{\u001b[39;00mtorch\u001b[38;5;241m.\u001b[39mmean(g_pred)\u001b[38;5;132;01m}\u001b[39;00m\u001b[38;5;124m\"\u001b[39m)\n",
      "File \u001b[0;32m~/miniconda3/envs/ID/lib/python3.9/site-packages/torch/_tensor.py:857\u001b[0m, in \u001b[0;36mTensor.__format__\u001b[0;34m(self, format_spec)\u001b[0m\n\u001b[1;32m    855\u001b[0m     \u001b[38;5;28;01mreturn\u001b[39;00m handle_torch_function(Tensor\u001b[38;5;241m.\u001b[39m\u001b[38;5;21m__format__\u001b[39m, (\u001b[38;5;28mself\u001b[39m,), \u001b[38;5;28mself\u001b[39m, format_spec)\n\u001b[1;32m    856\u001b[0m \u001b[38;5;28;01mif\u001b[39;00m \u001b[38;5;28mself\u001b[39m\u001b[38;5;241m.\u001b[39mdim() \u001b[38;5;241m==\u001b[39m \u001b[38;5;241m0\u001b[39m \u001b[38;5;129;01mand\u001b[39;00m \u001b[38;5;129;01mnot\u001b[39;00m \u001b[38;5;28mself\u001b[39m\u001b[38;5;241m.\u001b[39mis_meta \u001b[38;5;129;01mand\u001b[39;00m \u001b[38;5;28mtype\u001b[39m(\u001b[38;5;28mself\u001b[39m) \u001b[38;5;129;01mis\u001b[39;00m Tensor:\n\u001b[0;32m--> 857\u001b[0m     \u001b[38;5;28;01mreturn\u001b[39;00m \u001b[38;5;28;43mself\u001b[39;49m\u001b[38;5;241;43m.\u001b[39;49m\u001b[43mitem\u001b[49m\u001b[43m(\u001b[49m\u001b[43m)\u001b[49m\u001b[38;5;241m.\u001b[39m\u001b[38;5;21m__format__\u001b[39m(format_spec)\n\u001b[1;32m    858\u001b[0m \u001b[38;5;28;01mreturn\u001b[39;00m \u001b[38;5;28mobject\u001b[39m\u001b[38;5;241m.\u001b[39m\u001b[38;5;21m__format__\u001b[39m(\u001b[38;5;28mself\u001b[39m, format_spec)\n",
      "\u001b[0;31mRuntimeError\u001b[0m: CUDA error: device-side assert triggered\nCUDA kernel errors might be asynchronously reported at some other API call,so the stacktrace below might be incorrect.\nFor debugging consider passing CUDA_LAUNCH_BLOCKING=1."
     ]
    }
   ],
   "source": [
    "####### Discriminator back pass #######\n",
    "epochs = 4\n",
    "for epoch in range(epochs):\n",
    "  for idx, data in enumerate(train_loader):\n",
    "\n",
    "    id_images, attr_images, ws = data\n",
    "\n",
    "    torch.cuda.empty_cache()\n",
    "    id_images = id_images[0].cuda()\n",
    "    attr_images = attr_images[0].cuda()\n",
    "    ws = ws.cuda()\n",
    "\n",
    "    if idx % config['IdDiffersAttrTrainRatio'] == 0:\n",
    "      different_attr_images = torch.empty_like(attr_images, device='cuda')\n",
    "      different_attr_images[0] = attr_images[7]\n",
    "      different_attr_images[1:] = attr_images[:7]\n",
    "      attr_images = different_attr_images\n",
    "    \n",
    "    with torch.no_grad():\n",
    "      id_vec = E_id(id_images)\n",
    "\n",
    "    attr_vec = E_att(attr_images)\n",
    "    id_vec = torch.squeeze(id_vec)\n",
    "    attr_vec = torch.squeeze(attr_vec)\n",
    "    encoded_vec = torch.cat((id_vec,attr_vec), dim=1)\n",
    "\n",
    "    fake_data = mlp(encoded_vec)\n",
    "    error_real, prediction_real, error_fake, prediction_fake = train_discriminator(optimizerD, ws, fake_data)\n",
    "    print(f\"\\n error_real: {error_real}, error_fake: {error_fake} \\n prediction_real: {torch.mean(prediction_real)}, prediction_fake: {torch.mean(prediction_fake)}\")\n",
    "    g_error, g_pred = train_mapper(optimizerMLP, fake_data)\n",
    "    print(f\"\\n g_error: {g_error}, g_pred: {torch.mean(g_pred)}\")\n",
    "\n",
    "    MLP_losses.append(g_error)\n",
    "    D_losses.append((error_real + error_fake) /2)\n",
    "\n",
    "    if idx % 5 == 0:\n",
    "        with torch.no_grad():\n",
    "          plot_w_image(mlp(test_vec)[0])\n",
    "\n"
   ]
  },
  {
   "cell_type": "code",
   "execution_count": null,
   "metadata": {
    "colab": {
     "base_uri": "https://localhost:8080/",
     "height": 548
    },
    "executionInfo": {
     "elapsed": 791,
     "status": "error",
     "timestamp": 1610390454161,
     "user": {
      "displayName": "Daniel Roich",
      "photoUrl": "https://lh3.googleusercontent.com/a-/AOh14GifbWgrIYByxoDozsrfs4S6tp4xmQK4agVgjsBD-g=s64",
      "userId": "17660144139198746307"
     },
     "user_tz": -120
    },
    "id": "5nnh2KZfKy5d",
    "outputId": "edefdb23-8d87-4910-b54c-3d7723a319d3"
   },
   "outputs": [],
   "source": [
    "plt.figure(figsize=(10,5))\n",
    "plt.title(\"Mapper and Discriminator Loss During Training\")\n",
    "plt.plot(MLP_losses,label=\"MLP\")\n",
    "plt.plot(D_losses,label=\"D\")\n",
    "plt.xlabel(\"iterations\")\n",
    "plt.ylabel(\"Loss\")\n",
    "plt.legend()\n",
    "plt.show()"
   ]
  }
 ],
 "metadata": {
  "accelerator": "GPU",
  "colab": {
   "collapsed_sections": [],
   "name": "Mapper training.ipynb",
   "provenance": []
  },
  "kernelspec": {
   "display_name": "Python 3 (ipykernel)",
   "language": "python",
   "name": "python3"
  },
  "language_info": {
   "codemirror_mode": {
    "name": "ipython",
    "version": 3
   },
   "file_extension": ".py",
   "mimetype": "text/x-python",
   "name": "python",
   "nbconvert_exporter": "python",
   "pygments_lexer": "ipython3",
   "version": "3.9.13"
  },
  "widgets": {
   "application/vnd.jupyter.widget-state+json": {
    "16a756bb0a4844358d6ce7a57650d651": {
     "model_module": "@jupyter-widgets/base",
     "model_name": "LayoutModel",
     "state": {
      "_model_module": "@jupyter-widgets/base",
      "_model_module_version": "1.2.0",
      "_model_name": "LayoutModel",
      "_view_count": null,
      "_view_module": "@jupyter-widgets/base",
      "_view_module_version": "1.2.0",
      "_view_name": "LayoutView",
      "align_content": null,
      "align_items": null,
      "align_self": null,
      "border": null,
      "bottom": null,
      "display": null,
      "flex": null,
      "flex_flow": null,
      "grid_area": null,
      "grid_auto_columns": null,
      "grid_auto_flow": null,
      "grid_auto_rows": null,
      "grid_column": null,
      "grid_gap": null,
      "grid_row": null,
      "grid_template_areas": null,
      "grid_template_columns": null,
      "grid_template_rows": null,
      "height": null,
      "justify_content": null,
      "justify_items": null,
      "left": null,
      "margin": null,
      "max_height": null,
      "max_width": null,
      "min_height": null,
      "min_width": null,
      "object_fit": null,
      "object_position": null,
      "order": null,
      "overflow": null,
      "overflow_x": null,
      "overflow_y": null,
      "padding": null,
      "right": null,
      "top": null,
      "visibility": null,
      "width": null
     }
    },
    "4c1b526a05994f89b471919ca4d42368": {
     "model_module": "@jupyter-widgets/controls",
     "model_name": "FloatProgressModel",
     "state": {
      "_dom_classes": [],
      "_model_module": "@jupyter-widgets/controls",
      "_model_module_version": "1.5.0",
      "_model_name": "FloatProgressModel",
      "_view_count": null,
      "_view_module": "@jupyter-widgets/controls",
      "_view_module_version": "1.5.0",
      "_view_name": "ProgressView",
      "bar_style": "success",
      "description": "100%",
      "description_tooltip": null,
      "layout": "IPY_MODEL_16a756bb0a4844358d6ce7a57650d651",
      "max": 108857766,
      "min": 0,
      "orientation": "horizontal",
      "style": "IPY_MODEL_b38deb2771ff4a989f770af5e95ac6b5",
      "value": 108857766
     }
    },
    "68b730f6598f47eb830bc6daefd19a62": {
     "model_module": "@jupyter-widgets/controls",
     "model_name": "DescriptionStyleModel",
     "state": {
      "_model_module": "@jupyter-widgets/controls",
      "_model_module_version": "1.5.0",
      "_model_name": "DescriptionStyleModel",
      "_view_count": null,
      "_view_module": "@jupyter-widgets/base",
      "_view_module_version": "1.2.0",
      "_view_name": "StyleView",
      "description_width": ""
     }
    },
    "6e695d65927a41c48a9a9934f0b82030": {
     "model_module": "@jupyter-widgets/base",
     "model_name": "LayoutModel",
     "state": {
      "_model_module": "@jupyter-widgets/base",
      "_model_module_version": "1.2.0",
      "_model_name": "LayoutModel",
      "_view_count": null,
      "_view_module": "@jupyter-widgets/base",
      "_view_module_version": "1.2.0",
      "_view_name": "LayoutView",
      "align_content": null,
      "align_items": null,
      "align_self": null,
      "border": null,
      "bottom": null,
      "display": null,
      "flex": null,
      "flex_flow": null,
      "grid_area": null,
      "grid_auto_columns": null,
      "grid_auto_flow": null,
      "grid_auto_rows": null,
      "grid_column": null,
      "grid_gap": null,
      "grid_row": null,
      "grid_template_areas": null,
      "grid_template_columns": null,
      "grid_template_rows": null,
      "height": null,
      "justify_content": null,
      "justify_items": null,
      "left": null,
      "margin": null,
      "max_height": null,
      "max_width": null,
      "min_height": null,
      "min_width": null,
      "object_fit": null,
      "object_position": null,
      "order": null,
      "overflow": null,
      "overflow_x": null,
      "overflow_y": null,
      "padding": null,
      "right": null,
      "top": null,
      "visibility": null,
      "width": null
     }
    },
    "7e90da177f6c4dbca25681d41ea70393": {
     "model_module": "@jupyter-widgets/controls",
     "model_name": "HBoxModel",
     "state": {
      "_dom_classes": [],
      "_model_module": "@jupyter-widgets/controls",
      "_model_module_version": "1.5.0",
      "_model_name": "HBoxModel",
      "_view_count": null,
      "_view_module": "@jupyter-widgets/controls",
      "_view_module_version": "1.5.0",
      "_view_name": "HBoxView",
      "box_style": "",
      "children": [
       "IPY_MODEL_4c1b526a05994f89b471919ca4d42368",
       "IPY_MODEL_f7b62253cc294a74842e7710f95f56b8"
      ],
      "layout": "IPY_MODEL_faf849a8fd524e63a74783e083dfcd4c"
     }
    },
    "b38deb2771ff4a989f770af5e95ac6b5": {
     "model_module": "@jupyter-widgets/controls",
     "model_name": "ProgressStyleModel",
     "state": {
      "_model_module": "@jupyter-widgets/controls",
      "_model_module_version": "1.5.0",
      "_model_name": "ProgressStyleModel",
      "_view_count": null,
      "_view_module": "@jupyter-widgets/base",
      "_view_module_version": "1.2.0",
      "_view_name": "StyleView",
      "bar_color": null,
      "description_width": "initial"
     }
    },
    "f7b62253cc294a74842e7710f95f56b8": {
     "model_module": "@jupyter-widgets/controls",
     "model_name": "HTMLModel",
     "state": {
      "_dom_classes": [],
      "_model_module": "@jupyter-widgets/controls",
      "_model_module_version": "1.5.0",
      "_model_name": "HTMLModel",
      "_view_count": null,
      "_view_module": "@jupyter-widgets/controls",
      "_view_module_version": "1.5.0",
      "_view_name": "HTMLView",
      "description": "",
      "description_tooltip": null,
      "layout": "IPY_MODEL_6e695d65927a41c48a9a9934f0b82030",
      "placeholder": "​",
      "style": "IPY_MODEL_68b730f6598f47eb830bc6daefd19a62",
      "value": " 104M/104M [00:41&lt;00:00, 2.61MB/s]"
     }
    },
    "faf849a8fd524e63a74783e083dfcd4c": {
     "model_module": "@jupyter-widgets/base",
     "model_name": "LayoutModel",
     "state": {
      "_model_module": "@jupyter-widgets/base",
      "_model_module_version": "1.2.0",
      "_model_name": "LayoutModel",
      "_view_count": null,
      "_view_module": "@jupyter-widgets/base",
      "_view_module_version": "1.2.0",
      "_view_name": "LayoutView",
      "align_content": null,
      "align_items": null,
      "align_self": null,
      "border": null,
      "bottom": null,
      "display": null,
      "flex": null,
      "flex_flow": null,
      "grid_area": null,
      "grid_auto_columns": null,
      "grid_auto_flow": null,
      "grid_auto_rows": null,
      "grid_column": null,
      "grid_gap": null,
      "grid_row": null,
      "grid_template_areas": null,
      "grid_template_columns": null,
      "grid_template_rows": null,
      "height": null,
      "justify_content": null,
      "justify_items": null,
      "left": null,
      "margin": null,
      "max_height": null,
      "max_width": null,
      "min_height": null,
      "min_width": null,
      "object_fit": null,
      "object_position": null,
      "order": null,
      "overflow": null,
      "overflow_x": null,
      "overflow_y": null,
      "padding": null,
      "right": null,
      "top": null,
      "visibility": null,
      "width": null
     }
    }
   }
  }
 },
 "nbformat": 4,
 "nbformat_minor": 4
}
